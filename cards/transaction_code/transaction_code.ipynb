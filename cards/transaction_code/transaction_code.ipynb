{
 "cells": [
  {
   "cell_type": "code",
   "execution_count": 2,
   "id": "2b4ef491-c27a-4da2-9c92-3f67d79da725",
   "metadata": {},
   "outputs": [
    {
     "data": {
      "text/html": [
       "<div>\n",
       "<style scoped>\n",
       "    .dataframe tbody tr th:only-of-type {\n",
       "        vertical-align: middle;\n",
       "    }\n",
       "\n",
       "    .dataframe tbody tr th {\n",
       "        vertical-align: top;\n",
       "    }\n",
       "\n",
       "    .dataframe thead th {\n",
       "        text-align: right;\n",
       "    }\n",
       "</style>\n",
       "<table border=\"1\" class=\"dataframe\">\n",
       "  <thead>\n",
       "    <tr style=\"text-align: right;\">\n",
       "      <th></th>\n",
       "      <th>tco_code</th>\n",
       "      <th>tco_labe</th>\n",
       "      <th>tco_ewallet</th>\n",
       "      <th>tco_vtc_code</th>\n",
       "      <th>tco_cent_sign</th>\n",
       "      <th>tco_chld_sign</th>\n",
       "      <th>tco_merc_sign</th>\n",
       "      <th>tco_revo_flag</th>\n",
       "      <th>tco_pre_paid_flag</th>\n",
       "      <th>tco_acqu_bank_sign</th>\n",
       "      <th>tco_issu_bank_sign</th>\n",
       "      <th>updated_at</th>\n",
       "    </tr>\n",
       "  </thead>\n",
       "  <tbody>\n",
       "    <tr>\n",
       "      <th>0</th>\n",
       "      <td>1000</td>\n",
       "      <td>Express Replacement Fee</td>\n",
       "      <td>Y</td>\n",
       "      <td>NaN</td>\n",
       "      <td>N</td>\n",
       "      <td>D</td>\n",
       "      <td>NaN</td>\n",
       "      <td>A</td>\n",
       "      <td>NaN</td>\n",
       "      <td>D</td>\n",
       "      <td>NaN</td>\n",
       "      <td>2024-08-07 07:05:16.809</td>\n",
       "    </tr>\n",
       "    <tr>\n",
       "      <th>1</th>\n",
       "      <td>1900</td>\n",
       "      <td>Premium fee</td>\n",
       "      <td>N</td>\n",
       "      <td>10.0</td>\n",
       "      <td>NaN</td>\n",
       "      <td>D</td>\n",
       "      <td>NaN</td>\n",
       "      <td>N</td>\n",
       "      <td>N</td>\n",
       "      <td>NaN</td>\n",
       "      <td>NaN</td>\n",
       "      <td>2024-08-07 07:05:16.809</td>\n",
       "    </tr>\n",
       "    <tr>\n",
       "      <th>2</th>\n",
       "      <td>5000</td>\n",
       "      <td>Purchase</td>\n",
       "      <td>N</td>\n",
       "      <td>5.0</td>\n",
       "      <td>N</td>\n",
       "      <td>D</td>\n",
       "      <td>C</td>\n",
       "      <td>A</td>\n",
       "      <td>A</td>\n",
       "      <td>N</td>\n",
       "      <td>N</td>\n",
       "      <td>2024-08-07 07:05:16.809</td>\n",
       "    </tr>\n",
       "    <tr>\n",
       "      <th>3</th>\n",
       "      <td>5001</td>\n",
       "      <td>Financial Transaction without Cash</td>\n",
       "      <td>N</td>\n",
       "      <td>5.0</td>\n",
       "      <td>NaN</td>\n",
       "      <td>D</td>\n",
       "      <td>C</td>\n",
       "      <td>A</td>\n",
       "      <td>A</td>\n",
       "      <td>NaN</td>\n",
       "      <td>NaN</td>\n",
       "      <td>2024-08-07 07:05:16.809</td>\n",
       "    </tr>\n",
       "    <tr>\n",
       "      <th>4</th>\n",
       "      <td>5002</td>\n",
       "      <td>Unique Transaction</td>\n",
       "      <td>N</td>\n",
       "      <td>5.0</td>\n",
       "      <td>N</td>\n",
       "      <td>D</td>\n",
       "      <td>C</td>\n",
       "      <td>A</td>\n",
       "      <td>A</td>\n",
       "      <td>N</td>\n",
       "      <td>N</td>\n",
       "      <td>2024-08-07 07:05:16.809</td>\n",
       "    </tr>\n",
       "  </tbody>\n",
       "</table>\n",
       "</div>"
      ],
      "text/plain": [
       "   tco_code                            tco_labe tco_ewallet  tco_vtc_code  \\\n",
       "0      1000             Express Replacement Fee           Y           NaN   \n",
       "1      1900                         Premium fee           N          10.0   \n",
       "2      5000                            Purchase           N           5.0   \n",
       "3      5001  Financial Transaction without Cash           N           5.0   \n",
       "4      5002                  Unique Transaction           N           5.0   \n",
       "\n",
       "  tco_cent_sign tco_chld_sign tco_merc_sign tco_revo_flag tco_pre_paid_flag  \\\n",
       "0             N             D           NaN             A               NaN   \n",
       "1           NaN             D           NaN             N                 N   \n",
       "2             N             D             C             A                 A   \n",
       "3           NaN             D             C             A                 A   \n",
       "4             N             D             C             A                 A   \n",
       "\n",
       "  tco_acqu_bank_sign tco_issu_bank_sign              updated_at  \n",
       "0                  D                NaN 2024-08-07 07:05:16.809  \n",
       "1                NaN                NaN 2024-08-07 07:05:16.809  \n",
       "2                  N                  N 2024-08-07 07:05:16.809  \n",
       "3                NaN                NaN 2024-08-07 07:05:16.809  \n",
       "4                  N                  N 2024-08-07 07:05:16.809  "
      ]
     },
     "execution_count": 2,
     "metadata": {},
     "output_type": "execute_result"
    }
   ],
   "source": [
    "import pandas as pd\n",
    "import random\n",
    "df_tran_code = pd.read_excel(\"transaction_code.xlsx\") \n",
    "df_tran_code.head()"
   ]
  },
  {
   "cell_type": "code",
   "execution_count": 1,
   "id": "5302f4aa-e306-461d-a7f9-de4b5f95320b",
   "metadata": {},
   "outputs": [],
   "source": [
    "# num_rows = df_tran_code.shape[0]\n",
    "# random_codes = random.sample(range(1000, 99999), num_rows)\n",
    "# df_tran_code['tco_code'] = sorted(random_codes)\n",
    "# df_tran_code.head()"
   ]
  },
  {
   "cell_type": "code",
   "execution_count": 3,
   "id": "919e5f82-0f76-4faf-acda-63d7499f9af8",
   "metadata": {},
   "outputs": [
    {
     "data": {
      "text/plain": [
       "(342, 12)"
      ]
     },
     "execution_count": 3,
     "metadata": {},
     "output_type": "execute_result"
    }
   ],
   "source": [
    "df_tran_code.shape"
   ]
  },
  {
   "cell_type": "code",
   "execution_count": 4,
   "id": "211b1ca8-dcd3-4d35-bf2b-a50420812cc4",
   "metadata": {},
   "outputs": [
    {
     "data": {
      "text/plain": [
       "0"
      ]
     },
     "execution_count": 4,
     "metadata": {},
     "output_type": "execute_result"
    }
   ],
   "source": [
    "df_tran_code[['tco_code']].duplicated().sum()"
   ]
  },
  {
   "cell_type": "code",
   "execution_count": 6,
   "id": "112b6956-529a-4d4a-81f0-35374a712af5",
   "metadata": {},
   "outputs": [],
   "source": [
    "df_tran_code.to_csv(\"transaction_code_masked.csv\",index=False)"
   ]
  }
 ],
 "metadata": {
  "kernelspec": {
   "display_name": "Python 3 (ipykernel)",
   "language": "python",
   "name": "python3"
  },
  "language_info": {
   "codemirror_mode": {
    "name": "ipython",
    "version": 3
   },
   "file_extension": ".py",
   "mimetype": "text/x-python",
   "name": "python",
   "nbconvert_exporter": "python",
   "pygments_lexer": "ipython3",
   "version": "3.11.9"
  }
 },
 "nbformat": 4,
 "nbformat_minor": 5
}
