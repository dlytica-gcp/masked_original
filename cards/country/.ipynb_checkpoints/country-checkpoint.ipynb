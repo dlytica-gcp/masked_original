{
 "cells": [
  {
   "cell_type": "code",
   "execution_count": 1,
   "id": "4ea2629f-b03e-4065-bc89-01648fd791fc",
   "metadata": {},
   "outputs": [
    {
     "data": {
      "text/html": [
       "<div>\n",
       "<style scoped>\n",
       "    .dataframe tbody tr th:only-of-type {\n",
       "        vertical-align: middle;\n",
       "    }\n",
       "\n",
       "    .dataframe tbody tr th {\n",
       "        vertical-align: top;\n",
       "    }\n",
       "\n",
       "    .dataframe thead th {\n",
       "        text-align: right;\n",
       "    }\n",
       "</style>\n",
       "<table border=\"1\" class=\"dataframe\">\n",
       "  <thead>\n",
       "    <tr style=\"text-align: right;\">\n",
       "      <th></th>\n",
       "      <th>cou_code</th>\n",
       "      <th>cou_iden</th>\n",
       "      <th>cou_name</th>\n",
       "      <th>cou_nati</th>\n",
       "      <th>updated_at</th>\n",
       "    </tr>\n",
       "  </thead>\n",
       "  <tbody>\n",
       "    <tr>\n",
       "      <th>0</th>\n",
       "      <td>242</td>\n",
       "      <td>807</td>\n",
       "      <td>Republic of Macedonia,the Former Yugoslav</td>\n",
       "      <td>Republic of Macedonia,the Former Yugoslav</td>\n",
       "      <td>2024-08-07 07:04:28.395</td>\n",
       "    </tr>\n",
       "    <tr>\n",
       "      <th>1</th>\n",
       "      <td>243</td>\n",
       "      <td>450</td>\n",
       "      <td>Madagascar</td>\n",
       "      <td>Madagascar</td>\n",
       "      <td>2024-08-07 07:04:28.395</td>\n",
       "    </tr>\n",
       "    <tr>\n",
       "      <th>2</th>\n",
       "      <td>244</td>\n",
       "      <td>454</td>\n",
       "      <td>Malawi</td>\n",
       "      <td>Malawi</td>\n",
       "      <td>2024-08-07 07:04:28.395</td>\n",
       "    </tr>\n",
       "    <tr>\n",
       "      <th>3</th>\n",
       "      <td>245</td>\n",
       "      <td>458</td>\n",
       "      <td>Malaysia</td>\n",
       "      <td>Malaysia</td>\n",
       "      <td>2024-08-07 07:04:28.395</td>\n",
       "    </tr>\n",
       "    <tr>\n",
       "      <th>4</th>\n",
       "      <td>246</td>\n",
       "      <td>462</td>\n",
       "      <td>Maldives</td>\n",
       "      <td>Maldives</td>\n",
       "      <td>2024-08-07 07:04:28.395</td>\n",
       "    </tr>\n",
       "  </tbody>\n",
       "</table>\n",
       "</div>"
      ],
      "text/plain": [
       "   cou_code  cou_iden                                   cou_name  \\\n",
       "0       242       807  Republic of Macedonia,the Former Yugoslav   \n",
       "1       243       450                                 Madagascar   \n",
       "2       244       454                                     Malawi   \n",
       "3       245       458                                   Malaysia   \n",
       "4       246       462                                   Maldives   \n",
       "\n",
       "                                    cou_nati              updated_at  \n",
       "0  Republic of Macedonia,the Former Yugoslav 2024-08-07 07:04:28.395  \n",
       "1                                 Madagascar 2024-08-07 07:04:28.395  \n",
       "2                                     Malawi 2024-08-07 07:04:28.395  \n",
       "3                                   Malaysia 2024-08-07 07:04:28.395  \n",
       "4                                   Maldives 2024-08-07 07:04:28.395  "
      ]
     },
     "execution_count": 1,
     "metadata": {},
     "output_type": "execute_result"
    }
   ],
   "source": [
    "import pandas as pd\n",
    "df_country=pd.read_excel(\"country.xlsx\")\n",
    "df_country.head()"
   ]
  },
  {
   "cell_type": "code",
   "execution_count": 2,
   "id": "326cefd2-e71e-4a5b-9fed-57d71aa7e9c4",
   "metadata": {},
   "outputs": [],
   "source": [
    "df_country.to_csv(\"country_masked.csv\",index=False)"
   ]
  }
 ],
 "metadata": {
  "kernelspec": {
   "display_name": "Python 3 (ipykernel)",
   "language": "python",
   "name": "python3"
  },
  "language_info": {
   "codemirror_mode": {
    "name": "ipython",
    "version": 3
   },
   "file_extension": ".py",
   "mimetype": "text/x-python",
   "name": "python",
   "nbconvert_exporter": "python",
   "pygments_lexer": "ipython3",
   "version": "3.11.9"
  }
 },
 "nbformat": 4,
 "nbformat_minor": 5
}
