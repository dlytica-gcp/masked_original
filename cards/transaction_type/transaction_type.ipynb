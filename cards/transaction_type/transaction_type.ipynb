{
 "cells": [
  {
   "cell_type": "code",
   "execution_count": 3,
   "id": "6b89a880-08a8-4d49-ab42-89bb2ac17fe6",
   "metadata": {},
   "outputs": [
    {
     "data": {
      "text/html": [
       "<div>\n",
       "<style scoped>\n",
       "    .dataframe tbody tr th:only-of-type {\n",
       "        vertical-align: middle;\n",
       "    }\n",
       "\n",
       "    .dataframe tbody tr th {\n",
       "        vertical-align: top;\n",
       "    }\n",
       "\n",
       "    .dataframe thead th {\n",
       "        text-align: right;\n",
       "    }\n",
       "</style>\n",
       "<table border=\"1\" class=\"dataframe\">\n",
       "  <thead>\n",
       "    <tr style=\"text-align: right;\">\n",
       "      <th></th>\n",
       "      <th>tty_type_code</th>\n",
       "      <th>tty_type_iden</th>\n",
       "      <th>tty_type_labe</th>\n",
       "      <th>updated_at</th>\n",
       "    </tr>\n",
       "  </thead>\n",
       "  <tbody>\n",
       "    <tr>\n",
       "      <th>0</th>\n",
       "      <td>1</td>\n",
       "      <td>0</td>\n",
       "      <td>Goods/Service Purchase</td>\n",
       "      <td>2024-08-07 07:05:17.676</td>\n",
       "    </tr>\n",
       "    <tr>\n",
       "      <th>1</th>\n",
       "      <td>2</td>\n",
       "      <td>1</td>\n",
       "      <td>Withdrawal</td>\n",
       "      <td>2024-08-07 07:05:17.676</td>\n",
       "    </tr>\n",
       "    <tr>\n",
       "      <th>2</th>\n",
       "      <td>3</td>\n",
       "      <td>2</td>\n",
       "      <td>Debit Adjustment</td>\n",
       "      <td>2024-08-07 07:05:17.676</td>\n",
       "    </tr>\n",
       "    <tr>\n",
       "      <th>3</th>\n",
       "      <td>4</td>\n",
       "      <td>3</td>\n",
       "      <td>Check Guarantee</td>\n",
       "      <td>2024-08-07 07:05:17.676</td>\n",
       "    </tr>\n",
       "    <tr>\n",
       "      <th>4</th>\n",
       "      <td>5</td>\n",
       "      <td>4</td>\n",
       "      <td>Check Verification</td>\n",
       "      <td>2024-08-07 07:05:17.676</td>\n",
       "    </tr>\n",
       "  </tbody>\n",
       "</table>\n",
       "</div>"
      ],
      "text/plain": [
       "   tty_type_code  tty_type_iden           tty_type_labe  \\\n",
       "0              1              0  Goods/Service Purchase   \n",
       "1              2              1              Withdrawal   \n",
       "2              3              2        Debit Adjustment   \n",
       "3              4              3         Check Guarantee   \n",
       "4              5              4      Check Verification   \n",
       "\n",
       "               updated_at  \n",
       "0 2024-08-07 07:05:17.676  \n",
       "1 2024-08-07 07:05:17.676  \n",
       "2 2024-08-07 07:05:17.676  \n",
       "3 2024-08-07 07:05:17.676  \n",
       "4 2024-08-07 07:05:17.676  "
      ]
     },
     "execution_count": 3,
     "metadata": {},
     "output_type": "execute_result"
    }
   ],
   "source": [
    "import pandas as pd\n",
    "\n",
    "df_tran_type=pd.read_excel(\"transaction_type.xlsx\") \n",
    "df_tran_type.head()"
   ]
  },
  {
   "cell_type": "code",
   "execution_count": 5,
   "id": "415a4751-3a81-4f01-ac9f-bb45f5119b58",
   "metadata": {},
   "outputs": [],
   "source": [
    "df_tran_type.to_csv(\"transaction_type_masked.csv\",index=False)"
   ]
  }
 ],
 "metadata": {
  "kernelspec": {
   "display_name": "Python 3 (ipykernel)",
   "language": "python",
   "name": "python3"
  },
  "language_info": {
   "codemirror_mode": {
    "name": "ipython",
    "version": 3
   },
   "file_extension": ".py",
   "mimetype": "text/x-python",
   "name": "python",
   "nbconvert_exporter": "python",
   "pygments_lexer": "ipython3",
   "version": "3.11.9"
  }
 },
 "nbformat": 4,
 "nbformat_minor": 5
}
