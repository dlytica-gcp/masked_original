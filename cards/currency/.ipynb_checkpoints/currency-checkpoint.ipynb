{
 "cells": [
  {
   "cell_type": "code",
   "execution_count": 1,
   "id": "7e3d6224-d9f7-465b-a6b9-04804af0db45",
   "metadata": {},
   "outputs": [
    {
     "data": {
      "text/html": [
       "<div>\n",
       "<style scoped>\n",
       "    .dataframe tbody tr th:only-of-type {\n",
       "        vertical-align: middle;\n",
       "    }\n",
       "\n",
       "    .dataframe tbody tr th {\n",
       "        vertical-align: top;\n",
       "    }\n",
       "\n",
       "    .dataframe thead th {\n",
       "        text-align: right;\n",
       "    }\n",
       "</style>\n",
       "<table border=\"1\" class=\"dataframe\">\n",
       "  <thead>\n",
       "    <tr style=\"text-align: right;\">\n",
       "      <th></th>\n",
       "      <th>cur_ide</th>\n",
       "      <th>cur_code</th>\n",
       "      <th>cur_labe</th>\n",
       "      <th>cur_symb</th>\n",
       "      <th>cur_alph_code</th>\n",
       "      <th>cur_defa_numb_deci</th>\n",
       "      <th>updated_at</th>\n",
       "    </tr>\n",
       "  </thead>\n",
       "  <tbody>\n",
       "    <tr>\n",
       "      <th>0</th>\n",
       "      <td>704</td>\n",
       "      <td>1</td>\n",
       "      <td>Viet Nam Dong</td>\n",
       "      <td>NaN</td>\n",
       "      <td>VND</td>\n",
       "      <td>NaN</td>\n",
       "      <td>2024-08-07 07:04:29.105</td>\n",
       "    </tr>\n",
       "    <tr>\n",
       "      <th>1</th>\n",
       "      <td>705</td>\n",
       "      <td>2</td>\n",
       "      <td>Slovenia Tolar</td>\n",
       "      <td>NaN</td>\n",
       "      <td>SIT</td>\n",
       "      <td>NaN</td>\n",
       "      <td>2024-08-07 07:04:29.105</td>\n",
       "    </tr>\n",
       "    <tr>\n",
       "      <th>2</th>\n",
       "      <td>706</td>\n",
       "      <td>3</td>\n",
       "      <td>Somali Shilling</td>\n",
       "      <td>NaN</td>\n",
       "      <td>SOS</td>\n",
       "      <td>NaN</td>\n",
       "      <td>2024-08-07 07:04:29.105</td>\n",
       "    </tr>\n",
       "    <tr>\n",
       "      <th>3</th>\n",
       "      <td>710</td>\n",
       "      <td>4</td>\n",
       "      <td>South Africa RandS</td>\n",
       "      <td>NaN</td>\n",
       "      <td>ZAR</td>\n",
       "      <td>NaN</td>\n",
       "      <td>2024-08-07 07:04:29.105</td>\n",
       "    </tr>\n",
       "    <tr>\n",
       "      <th>4</th>\n",
       "      <td>716</td>\n",
       "      <td>5</td>\n",
       "      <td>Zimbabwe Dollar</td>\n",
       "      <td>NaN</td>\n",
       "      <td>ZWD</td>\n",
       "      <td>NaN</td>\n",
       "      <td>2024-08-07 07:04:29.105</td>\n",
       "    </tr>\n",
       "  </tbody>\n",
       "</table>\n",
       "</div>"
      ],
      "text/plain": [
       "  cur_ide  cur_code            cur_labe cur_symb cur_alph_code  \\\n",
       "0     704         1       Viet Nam Dong      NaN           VND   \n",
       "1     705         2      Slovenia Tolar      NaN           SIT   \n",
       "2     706         3     Somali Shilling      NaN           SOS   \n",
       "3     710         4  South Africa RandS      NaN           ZAR   \n",
       "4     716         5     Zimbabwe Dollar      NaN           ZWD   \n",
       "\n",
       "   cur_defa_numb_deci              updated_at  \n",
       "0                 NaN 2024-08-07 07:04:29.105  \n",
       "1                 NaN 2024-08-07 07:04:29.105  \n",
       "2                 NaN 2024-08-07 07:04:29.105  \n",
       "3                 NaN 2024-08-07 07:04:29.105  \n",
       "4                 NaN 2024-08-07 07:04:29.105  "
      ]
     },
     "execution_count": 1,
     "metadata": {},
     "output_type": "execute_result"
    }
   ],
   "source": [
    "import pandas as pd\n",
    "df_currency=pd.read_excel(\"currency.xlsx\")\n",
    "df_currency.head()"
   ]
  },
  {
   "cell_type": "code",
   "execution_count": 2,
   "id": "130a71cd-9f48-409a-be98-247517d83c1f",
   "metadata": {},
   "outputs": [],
   "source": [
    "df_currency.to_csv(\"currency_masked.csv\",index=False)"
   ]
  }
 ],
 "metadata": {
  "kernelspec": {
   "display_name": "Python 3 (ipykernel)",
   "language": "python",
   "name": "python3"
  },
  "language_info": {
   "codemirror_mode": {
    "name": "ipython",
    "version": 3
   },
   "file_extension": ".py",
   "mimetype": "text/x-python",
   "name": "python",
   "nbconvert_exporter": "python",
   "pygments_lexer": "ipython3",
   "version": "3.11.9"
  }
 },
 "nbformat": 4,
 "nbformat_minor": 5
}
