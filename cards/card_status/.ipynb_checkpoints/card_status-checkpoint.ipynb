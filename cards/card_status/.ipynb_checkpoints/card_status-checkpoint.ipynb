{
 "cells": [
  {
   "cell_type": "code",
   "execution_count": 1,
   "id": "4f9035e5-4a74-408b-a3cd-aa96b5241ed3",
   "metadata": {},
   "outputs": [
    {
     "data": {
      "text/html": [
       "<div>\n",
       "<style scoped>\n",
       "    .dataframe tbody tr th:only-of-type {\n",
       "        vertical-align: middle;\n",
       "    }\n",
       "\n",
       "    .dataframe tbody tr th {\n",
       "        vertical-align: top;\n",
       "    }\n",
       "\n",
       "    .dataframe thead th {\n",
       "        text-align: right;\n",
       "    }\n",
       "</style>\n",
       "<table border=\"1\" class=\"dataframe\">\n",
       "  <thead>\n",
       "    <tr style=\"text-align: right;\">\n",
       "      <th></th>\n",
       "      <th>cst_code</th>\n",
       "      <th>cst_labe</th>\n",
       "      <th>updated_at</th>\n",
       "    </tr>\n",
       "  </thead>\n",
       "  <tbody>\n",
       "    <tr>\n",
       "      <th>0</th>\n",
       "      <td>1</td>\n",
       "      <td>In Instance</td>\n",
       "      <td>2024-08-07 07:04:05.154</td>\n",
       "    </tr>\n",
       "    <tr>\n",
       "      <th>1</th>\n",
       "      <td>2</td>\n",
       "      <td>Active</td>\n",
       "      <td>2024-08-07 07:04:05.154</td>\n",
       "    </tr>\n",
       "    <tr>\n",
       "      <th>2</th>\n",
       "      <td>3</td>\n",
       "      <td>Blocked</td>\n",
       "      <td>2024-08-07 07:04:05.154</td>\n",
       "    </tr>\n",
       "    <tr>\n",
       "      <th>3</th>\n",
       "      <td>4</td>\n",
       "      <td>Hold</td>\n",
       "      <td>2024-08-07 07:04:05.154</td>\n",
       "    </tr>\n",
       "    <tr>\n",
       "      <th>4</th>\n",
       "      <td>5</td>\n",
       "      <td>Inactive</td>\n",
       "      <td>2024-08-07 07:04:05.154</td>\n",
       "    </tr>\n",
       "  </tbody>\n",
       "</table>\n",
       "</div>"
      ],
      "text/plain": [
       "   cst_code     cst_labe              updated_at\n",
       "0         1  In Instance 2024-08-07 07:04:05.154\n",
       "1         2       Active 2024-08-07 07:04:05.154\n",
       "2         3      Blocked 2024-08-07 07:04:05.154\n",
       "3         4         Hold 2024-08-07 07:04:05.154\n",
       "4         5     Inactive 2024-08-07 07:04:05.154"
      ]
     },
     "execution_count": 1,
     "metadata": {},
     "output_type": "execute_result"
    }
   ],
   "source": [
    "import pandas as pd\n",
    "df_card_status=pd.read_excel(\"card_status.xlsx\")\n",
    "df_card_status.head()"
   ]
  },
  {
   "cell_type": "code",
   "execution_count": 2,
   "id": "467a93c4-8d37-4a1b-93f4-62ed1614adb5",
   "metadata": {},
   "outputs": [],
   "source": [
    "df_card_status.to_csv(\"card_status_masked.csv\",index=False)"
   ]
  }
 ],
 "metadata": {
  "kernelspec": {
   "display_name": "Python 3 (ipykernel)",
   "language": "python",
   "name": "python3"
  },
  "language_info": {
   "codemirror_mode": {
    "name": "ipython",
    "version": 3
   },
   "file_extension": ".py",
   "mimetype": "text/x-python",
   "name": "python",
   "nbconvert_exporter": "python",
   "pygments_lexer": "ipython3",
   "version": "3.11.9"
  }
 },
 "nbformat": 4,
 "nbformat_minor": 5
}
