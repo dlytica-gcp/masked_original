{
 "cells": [
  {
   "cell_type": "code",
   "execution_count": 2,
   "id": "d4ee6471-258c-4948-ad9b-90ef0c0fd7d9",
   "metadata": {},
   "outputs": [
    {
     "data": {
      "text/html": [
       "<div>\n",
       "<style scoped>\n",
       "    .dataframe tbody tr th:only-of-type {\n",
       "        vertical-align: middle;\n",
       "    }\n",
       "\n",
       "    .dataframe tbody tr th {\n",
       "        vertical-align: top;\n",
       "    }\n",
       "\n",
       "    .dataframe thead th {\n",
       "        text-align: right;\n",
       "    }\n",
       "</style>\n",
       "<table border=\"1\" class=\"dataframe\">\n",
       "  <thead>\n",
       "    <tr style=\"text-align: right;\">\n",
       "      <th></th>\n",
       "      <th>cty_code</th>\n",
       "      <th>cty_iden</th>\n",
       "      <th>cty_labe</th>\n",
       "      <th>updated_at</th>\n",
       "    </tr>\n",
       "  </thead>\n",
       "  <tbody>\n",
       "    <tr>\n",
       "      <th>0</th>\n",
       "      <td>1</td>\n",
       "      <td>1</td>\n",
       "      <td>Public Shareholding</td>\n",
       "      <td>2024-08-07 07:04:27.672</td>\n",
       "    </tr>\n",
       "    <tr>\n",
       "      <th>1</th>\n",
       "      <td>2</td>\n",
       "      <td>2</td>\n",
       "      <td>Private Shareholding Company</td>\n",
       "      <td>2024-08-07 07:04:27.672</td>\n",
       "    </tr>\n",
       "    <tr>\n",
       "      <th>2</th>\n",
       "      <td>3</td>\n",
       "      <td>3</td>\n",
       "      <td>Limited Company</td>\n",
       "      <td>2024-08-07 07:04:27.672</td>\n",
       "    </tr>\n",
       "    <tr>\n",
       "      <th>3</th>\n",
       "      <td>4</td>\n",
       "      <td>4</td>\n",
       "      <td>Personal Company</td>\n",
       "      <td>2024-08-07 07:04:27.672</td>\n",
       "    </tr>\n",
       "    <tr>\n",
       "      <th>4</th>\n",
       "      <td>5</td>\n",
       "      <td>5</td>\n",
       "      <td>Governmental Institutions</td>\n",
       "      <td>2024-08-07 07:04:27.672</td>\n",
       "    </tr>\n",
       "  </tbody>\n",
       "</table>\n",
       "</div>"
      ],
      "text/plain": [
       "   cty_code  cty_iden                      cty_labe              updated_at\n",
       "0         1         1           Public Shareholding 2024-08-07 07:04:27.672\n",
       "1         2         2  Private Shareholding Company 2024-08-07 07:04:27.672\n",
       "2         3         3               Limited Company 2024-08-07 07:04:27.672\n",
       "3         4         4              Personal Company 2024-08-07 07:04:27.672\n",
       "4         5         5     Governmental Institutions 2024-08-07 07:04:27.672"
      ]
     },
     "execution_count": 2,
     "metadata": {},
     "output_type": "execute_result"
    }
   ],
   "source": [
    "import pandas as pd\n",
    "df_companies_types=pd.read_excel(\"companies_types.xlsx\")\n",
    "df_companies_types.head()"
   ]
  },
  {
   "cell_type": "code",
   "execution_count": 4,
   "id": "b1fd8bb0-3308-4e9f-83af-502c24f4aa6a",
   "metadata": {},
   "outputs": [],
   "source": [
    "df_companies_types.to_csv(\"companies_type_masked.csv\",index=False)"
   ]
  }
 ],
 "metadata": {
  "kernelspec": {
   "display_name": "Python 3 (ipykernel)",
   "language": "python",
   "name": "python3"
  },
  "language_info": {
   "codemirror_mode": {
    "name": "ipython",
    "version": 3
   },
   "file_extension": ".py",
   "mimetype": "text/x-python",
   "name": "python",
   "nbconvert_exporter": "python",
   "pygments_lexer": "ipython3",
   "version": "3.11.9"
  }
 },
 "nbformat": 4,
 "nbformat_minor": 5
}
