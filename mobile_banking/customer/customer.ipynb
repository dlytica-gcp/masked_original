{
 "cells": [
  {
   "cell_type": "markdown",
   "id": "600662f7",
   "metadata": {},
   "source": [
    "# Notebook for customer"
   ]
  }
 ],
 "metadata": {},
 "nbformat": 4,
 "nbformat_minor": 5
}
