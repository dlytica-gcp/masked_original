{
 "cells": [
  {
   "cell_type": "markdown",
   "id": "f6514a5d",
   "metadata": {},
   "source": [
    "# Notebook for customer_login"
   ]
  }
 ],
 "metadata": {},
 "nbformat": 4,
 "nbformat_minor": 5
}
