{
 "cells": [
  {
   "cell_type": "markdown",
   "id": "c11c944a",
   "metadata": {},
   "source": [
    "# Notebook for nps_transaction_detail"
   ]
  }
 ],
 "metadata": {},
 "nbformat": 4,
 "nbformat_minor": 5
}
