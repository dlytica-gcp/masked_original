{
 "cells": [
  {
   "cell_type": "markdown",
   "id": "c11c944a",
   "metadata": {},
   "source": [
    "# Notebook for nps_transaction_detail"
   ]
  },
  {
   "cell_type": "code",
   "execution_count": null,
   "id": "ae4d2b6e",
   "metadata": {
    "vscode": {
     "languageId": "plaintext"
    }
   },
   "outputs": [],
   "source": []
  }
 ],
 "metadata": {
  "language_info": {
   "name": "python"
  }
 },
 "nbformat": 4,
 "nbformat_minor": 5
}
