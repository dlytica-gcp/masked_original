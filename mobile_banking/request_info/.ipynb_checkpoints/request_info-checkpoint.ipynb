{
 "cells": [
  {
   "cell_type": "markdown",
   "id": "b9679f32",
   "metadata": {},
   "source": [
    "# Notebook for request_info"
   ]
  }
 ],
 "metadata": {},
 "nbformat": 4,
 "nbformat_minor": 5
}
