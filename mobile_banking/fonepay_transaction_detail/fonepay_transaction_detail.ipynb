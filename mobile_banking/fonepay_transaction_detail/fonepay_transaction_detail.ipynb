{
 "cells": [
  {
   "cell_type": "markdown",
   "id": "c7d31e8d",
   "metadata": {},
   "source": [
    "# Notebook for fonepay_transaction_detail"
   ]
  }
 ],
 "metadata": {},
 "nbformat": 4,
 "nbformat_minor": 5
}
