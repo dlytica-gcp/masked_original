{
 "cells": [
  {
   "cell_type": "code",
   "execution_count": null,
   "id": "61641a2e-adb6-421d-959a-3c431b4c1887",
   "metadata": {},
   "outputs": [],
   "source": [
    "import pandas as pd\n",
    "df_int_code_version= pd.read_excel(\"int_code_version_table.xlsx\")\n",
    "df_int_code_version.head()"
   ]
  },
  {
   "cell_type": "code",
   "execution_count": null,
   "id": "aea143ca-e79f-4a70-9e51-4ba828bad691",
   "metadata": {},
   "outputs": [],
   "source": [
    "df_int_code_version.to_csv(\"int_code_version_table_masked.csv\",index=False)"
   ]
  }
 ],
 "metadata": {
  "kernelspec": {
   "display_name": "Python 3 (ipykernel)",
   "language": "python",
   "name": "python3"
  },
  "language_info": {
   "codemirror_mode": {
    "name": "ipython",
    "version": 3
   },
   "file_extension": ".py",
   "mimetype": "text/x-python",
   "name": "python",
   "nbconvert_exporter": "python",
   "pygments_lexer": "ipython3",
   "version": "3.11.9"
  }
 },
 "nbformat": 4,
 "nbformat_minor": 5
}
