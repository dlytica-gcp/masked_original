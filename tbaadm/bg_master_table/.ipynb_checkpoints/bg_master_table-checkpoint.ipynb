{
 "cells": [
  {
   "cell_type": "code",
   "execution_count": null,
   "id": "0aff7f3f",
   "metadata": {},
   "outputs": [],
   "source": [
    "import pandas as pd\n",
    "bg_event_table= pd.read_excel(\"bg_event_table.xlsx\")\n",
    "bg_event_table = bg_event_table.drop(['_airbyte_ab_id', '_airbyte_emitted_at',\"source_file_path\",\"_airbyte_additional_properties\"], axis=1)\n",
    "\n",
    "bg_event_table.head()\n",
    " "
   ]
  }
 ],
 "metadata": {
  "language_info": {
   "name": "python"
  }
 },
 "nbformat": 4,
 "nbformat_minor": 5
}
