{
 "cells": [
  {
   "cell_type": "markdown",
   "id": "1bfb0957",
   "metadata": {},
   "source": [
    "# Notebook for c_relparty_details"
   ]
  }
 ],
 "metadata": {},
 "nbformat": 4,
 "nbformat_minor": 5
}
