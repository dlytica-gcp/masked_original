{
 "cells": [
  {
   "cell_type": "markdown",
   "id": "6c18fd24",
   "metadata": {},
   "source": [
    "# Notebook for lmis"
   ]
  }
 ],
 "metadata": {},
 "nbformat": 4,
 "nbformat_minor": 5
}
