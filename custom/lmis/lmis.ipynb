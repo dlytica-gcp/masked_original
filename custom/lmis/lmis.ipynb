{
 "cells": [
  {
   "cell_type": "code",
   "execution_count": 1,
   "id": "7fd461b0",
   "metadata": {},
   "outputs": [
    {
     "data": {
      "text/plain": [
       "0    R90504419\n",
       "1    R09092002\n",
       "2    800520784\n",
       "3    RB1499113\n",
       "4    R52273477\n",
       "Name: cif_id, dtype: object"
      ]
     },
     "execution_count": 1,
     "metadata": {},
     "output_type": "execute_result"
    }
   ],
   "source": [
    "import pandas as pd\n",
    "df_lmis=pd.read_excel(\"lmis.xlsx\")\n",
    "df_lmis['cif_id'].head()"
   ]
  },
  {
   "cell_type": "code",
   "execution_count": 2,
   "id": "7493e9b1",
   "metadata": {},
   "outputs": [],
   "source": [
    "# df_c_loan_pen_int = df_c_loan_pen_int.drop(['_airbyte_ab_id', '_airbyte_emitted_at',\"source_file_path\",\"_airbyte_additional_properties\"], axis=1)\n",
    "\n",
    "# df_c_loan_pen_int.head()"
   ]
  },
  {
   "cell_type": "code",
   "execution_count": 3,
   "id": "fe4f0b16",
   "metadata": {},
   "outputs": [
    {
     "data": {
      "text/html": [
       "<div>\n",
       "<style scoped>\n",
       "    .dataframe tbody tr th:only-of-type {\n",
       "        vertical-align: middle;\n",
       "    }\n",
       "\n",
       "    .dataframe tbody tr th {\n",
       "        vertical-align: top;\n",
       "    }\n",
       "\n",
       "    .dataframe thead th {\n",
       "        text-align: right;\n",
       "    }\n",
       "</style>\n",
       "<table border=\"1\" class=\"dataframe\">\n",
       "  <thead>\n",
       "    <tr style=\"text-align: right;\">\n",
       "      <th></th>\n",
       "      <th>cif_id</th>\n",
       "      <th>orgkey</th>\n",
       "      <th>cust_first_name</th>\n",
       "      <th>cust_middle_name</th>\n",
       "      <th>cust_last_name</th>\n",
       "      <th>preferredphone</th>\n",
       "      <th>preferredname</th>\n",
       "      <th>preferredemail</th>\n",
       "      <th>email</th>\n",
       "      <th>gender</th>\n",
       "      <th>name</th>\n",
       "      <th>pan</th>\n",
       "    </tr>\n",
       "  </thead>\n",
       "  <tbody>\n",
       "    <tr>\n",
       "      <th>0</th>\n",
       "      <td>DLNIND4568821</td>\n",
       "      <td>R01562055</td>\n",
       "      <td>Duman</td>\n",
       "      <td>Narayan</td>\n",
       "      <td>Neupane</td>\n",
       "      <td>+977-9833330190</td>\n",
       "      <td>Duman Narayan Neupane</td>\n",
       "      <td>ARYALPRABAL@GMAIL.COM</td>\n",
       "      <td>duman492@gmail.com</td>\n",
       "      <td>M</td>\n",
       "      <td>Duman Narayan Neupane</td>\n",
       "      <td>PAN714271279</td>\n",
       "    </tr>\n",
       "    <tr>\n",
       "      <th>1</th>\n",
       "      <td>DLNIND7235296</td>\n",
       "      <td>R01911512</td>\n",
       "      <td>Prajina</td>\n",
       "      <td>Devi</td>\n",
       "      <td>Maharjan</td>\n",
       "      <td>+977-9892307589</td>\n",
       "      <td>Prajina Devi Maharjan</td>\n",
       "      <td>na@nicasiabank.com</td>\n",
       "      <td>prajina427@gmail.com</td>\n",
       "      <td>F</td>\n",
       "      <td>Prajina Devi Maharjan</td>\n",
       "      <td>PAN503838478</td>\n",
       "    </tr>\n",
       "    <tr>\n",
       "      <th>2</th>\n",
       "      <td>DLNIND1406504</td>\n",
       "      <td>R02944296</td>\n",
       "      <td>Humacanta</td>\n",
       "      <td>Bipin</td>\n",
       "      <td>Thapa</td>\n",
       "      <td>+977-9856818453</td>\n",
       "      <td>Humacanta Bipin Thapa</td>\n",
       "      <td>dipeshshah4000@gmail.com</td>\n",
       "      <td>humacanta862@gmail.com</td>\n",
       "      <td>M</td>\n",
       "      <td>Humacanta Bipin Thapa</td>\n",
       "      <td>PAN668645879</td>\n",
       "    </tr>\n",
       "    <tr>\n",
       "      <th>3</th>\n",
       "      <td>DLNLEG6218579</td>\n",
       "      <td>C00038863</td>\n",
       "      <td>KHOTANG FOODS PVT. LTD.</td>\n",
       "      <td>NaN</td>\n",
       "      <td>NaN</td>\n",
       "      <td>+977-9862721402</td>\n",
       "      <td>MANASLU HOSPITALITY PVT. LTD.</td>\n",
       "      <td>NaN</td>\n",
       "      <td>khotangfoods840@outlook.com</td>\n",
       "      <td>NaN</td>\n",
       "      <td>KHOTANG FOODS PVT. LTD.</td>\n",
       "      <td>PAN533918346</td>\n",
       "    </tr>\n",
       "    <tr>\n",
       "      <th>4</th>\n",
       "      <td>DLNIND1255130</td>\n",
       "      <td>R01651971</td>\n",
       "      <td>Adarsh</td>\n",
       "      <td>Bhakta</td>\n",
       "      <td>Lama</td>\n",
       "      <td>+977-9810013657</td>\n",
       "      <td>Adarsh Bhakta Lama</td>\n",
       "      <td>BINODRAYEE@GMAIL.COM</td>\n",
       "      <td>adarsh904@gmail.com</td>\n",
       "      <td>M</td>\n",
       "      <td>Adarsh Bhakta Lama</td>\n",
       "      <td>PAN331700070</td>\n",
       "    </tr>\n",
       "  </tbody>\n",
       "</table>\n",
       "</div>"
      ],
      "text/plain": [
       "          cif_id     orgkey          cust_first_name cust_middle_name  \\\n",
       "0  DLNIND4568821  R01562055                    Duman          Narayan   \n",
       "1  DLNIND7235296  R01911512                  Prajina             Devi   \n",
       "2  DLNIND1406504  R02944296                Humacanta            Bipin   \n",
       "3  DLNLEG6218579  C00038863  KHOTANG FOODS PVT. LTD.              NaN   \n",
       "4  DLNIND1255130  R01651971                   Adarsh           Bhakta   \n",
       "\n",
       "  cust_last_name   preferredphone                  preferredname  \\\n",
       "0        Neupane  +977-9833330190          Duman Narayan Neupane   \n",
       "1       Maharjan  +977-9892307589          Prajina Devi Maharjan   \n",
       "2          Thapa  +977-9856818453          Humacanta Bipin Thapa   \n",
       "3            NaN  +977-9862721402  MANASLU HOSPITALITY PVT. LTD.   \n",
       "4           Lama  +977-9810013657             Adarsh Bhakta Lama   \n",
       "\n",
       "             preferredemail                        email gender  \\\n",
       "0     ARYALPRABAL@GMAIL.COM           duman492@gmail.com      M   \n",
       "1        na@nicasiabank.com         prajina427@gmail.com      F   \n",
       "2  dipeshshah4000@gmail.com       humacanta862@gmail.com      M   \n",
       "3                       NaN  khotangfoods840@outlook.com    NaN   \n",
       "4      BINODRAYEE@GMAIL.COM          adarsh904@gmail.com      M   \n",
       "\n",
       "                      name           pan  \n",
       "0    Duman Narayan Neupane  PAN714271279  \n",
       "1    Prajina Devi Maharjan  PAN503838478  \n",
       "2    Humacanta Bipin Thapa  PAN668645879  \n",
       "3  KHOTANG FOODS PVT. LTD.  PAN533918346  \n",
       "4       Adarsh Bhakta Lama  PAN331700070  "
      ]
     },
     "execution_count": 3,
     "metadata": {},
     "output_type": "execute_result"
    }
   ],
   "source": [
    "df_acc = pd.read_csv(\"../../crmuser/account/cif_masked.csv\")\n",
    "df_acc.head()"
   ]
  },
  {
   "cell_type": "code",
   "execution_count": 4,
   "id": "5f9013d4",
   "metadata": {},
   "outputs": [
    {
     "data": {
      "text/plain": [
       "0     DLNLEG5828268\n",
       "1     DLNLEG6576494\n",
       "2     DLNLEG7265178\n",
       "3     DLNLEG3194194\n",
       "4     DLNLEG7366525\n",
       "5     DLNLEG9864427\n",
       "6     DLNLEG6450861\n",
       "7     DLNLEG8098419\n",
       "8     DLNLEG5924902\n",
       "9     DLNLEG5063780\n",
       "10    DLNIND9450331\n",
       "11    DLNIND6665024\n",
       "12    DLNLEG9678391\n",
       "13    DLNLEG5738561\n",
       "14    DLNLEG9334212\n",
       "15    DLNLEG5063941\n",
       "16    DLNLEG6465924\n",
       "17    DLNLEG8980703\n",
       "18    DLNLEG2266684\n",
       "19    DLNLEG1075920\n",
       "20    DLNLEG1598748\n",
       "21    DLNIND8212211\n",
       "22    DLNIND5676264\n",
       "23    DLNLEG3286748\n",
       "24    DLNLEG5604950\n",
       "25    DLNIND9084977\n",
       "26    DLNIND5013653\n",
       "27    DLNIND8496642\n",
       "28    DLNLEG3727146\n",
       "29    DLNLEG1337370\n",
       "30    DLNLEG9966100\n",
       "31    DLNLEG6218579\n",
       "32    DLNIND6814583\n",
       "33    DLNLEG1189719\n",
       "34    DLNIND3986994\n",
       "35    DLNIND5461679\n",
       "36    DLNIND9898224\n",
       "37    DLNIND8221535\n",
       "38    DLNLEG5142567\n",
       "39    DLNIND5644007\n",
       "40    DLNLEG5646672\n",
       "41    DLNLEG5022872\n",
       "42    DLNIND7426436\n",
       "43    DLNLEG2158354\n",
       "44    DLNLEG3169101\n",
       "45    DLNLEG8767566\n",
       "46    DLNIND2622447\n",
       "47    DLNIND5576304\n",
       "48    DLNLEG9101051\n",
       "49    DLNIND3781309\n",
       "50    DLNIND6943934\n",
       "51    DLNIND3694466\n",
       "Name: cif_id_a, dtype: object"
      ]
     },
     "execution_count": 4,
     "metadata": {},
     "output_type": "execute_result"
    }
   ],
   "source": [
    "df_result = pd.merge(left=df_lmis,right=df_acc, left_on='cif_id',right_on='orgkey',suffixes=('_p', '_a'))\n",
    "\n",
    "df_result['cif_id_a']"
   ]
  },
  {
   "cell_type": "code",
   "execution_count": 5,
   "id": "85d9faa1",
   "metadata": {},
   "outputs": [
    {
     "data": {
      "text/plain": [
       "0    DLNLEG5828268\n",
       "1    DLNLEG6576494\n",
       "2    DLNLEG7265178\n",
       "3    DLNLEG3194194\n",
       "4    DLNLEG7366525\n",
       "Name: cif_id, dtype: object"
      ]
     },
     "execution_count": 5,
     "metadata": {},
     "output_type": "execute_result"
    }
   ],
   "source": [
    "df_lmis['cif_id']=df_result['cif_id_a']\n",
    "df_lmis['cif_id'].head()"
   ]
  },
  {
   "cell_type": "code",
   "execution_count": 6,
   "id": "64113376",
   "metadata": {},
   "outputs": [],
   "source": [
    "df_lmis.to_csv(\"lmis_masked.csv\",index=False)"
   ]
  }
 ],
 "metadata": {
  "kernelspec": {
   "display_name": "Python 3 (ipykernel)",
   "language": "python",
   "name": "python3"
  },
  "language_info": {
   "codemirror_mode": {
    "name": "ipython",
    "version": 3
   },
   "file_extension": ".py",
   "mimetype": "text/x-python",
   "name": "python",
   "nbconvert_exporter": "python",
   "pygments_lexer": "ipython3",
   "version": "3.11.9"
  }
 },
 "nbformat": 4,
 "nbformat_minor": 5
}
