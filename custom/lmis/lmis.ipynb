{
 "cells": [
  {
   "cell_type": "code",
   "execution_count": 7,
   "id": "7fd461b0",
   "metadata": {},
   "outputs": [
    {
     "data": {
      "text/plain": [
       "0    R90504419\n",
       "1    R09092002\n",
       "2    800520784\n",
       "3    RB1499113\n",
       "4    R52273477\n",
       "Name: cif_id, dtype: object"
      ]
     },
     "execution_count": 7,
     "metadata": {},
     "output_type": "execute_result"
    }
   ],
   "source": [
    "import pandas as pd\n",
    "df_lmis=pd.read_excel(\"lmis.xlsx\")\n",
    "df_lmis['cif_id'].head()"
   ]
  },
  {
   "cell_type": "code",
   "execution_count": 2,
   "id": "7493e9b1",
   "metadata": {},
   "outputs": [],
   "source": [
    "# df_c_loan_pen_int = df_c_loan_pen_int.drop(['_airbyte_ab_id', '_airbyte_emitted_at',\"source_file_path\",\"_airbyte_additional_properties\"], axis=1)\n",
    "\n",
    "# df_c_loan_pen_int.head()"
   ]
  },
  {
   "cell_type": "code",
   "execution_count": 3,
   "id": "fe4f0b16",
   "metadata": {},
   "outputs": [
    {
     "data": {
      "text/html": [
       "<div>\n",
       "<style scoped>\n",
       "    .dataframe tbody tr th:only-of-type {\n",
       "        vertical-align: middle;\n",
       "    }\n",
       "\n",
       "    .dataframe tbody tr th {\n",
       "        vertical-align: top;\n",
       "    }\n",
       "\n",
       "    .dataframe thead th {\n",
       "        text-align: right;\n",
       "    }\n",
       "</style>\n",
       "<table border=\"1\" class=\"dataframe\">\n",
       "  <thead>\n",
       "    <tr style=\"text-align: right;\">\n",
       "      <th></th>\n",
       "      <th>orgkey</th>\n",
       "      <th>cif_id</th>\n",
       "      <th>pan</th>\n",
       "      <th>cust_first_name</th>\n",
       "      <th>cust_middle_name</th>\n",
       "      <th>cust_last_name</th>\n",
       "      <th>preferredphone</th>\n",
       "      <th>email</th>\n",
       "      <th>gender</th>\n",
       "      <th>preferredemail</th>\n",
       "      <th>name</th>\n",
       "      <th>preferredname</th>\n",
       "    </tr>\n",
       "  </thead>\n",
       "  <tbody>\n",
       "    <tr>\n",
       "      <th>0</th>\n",
       "      <td>319749297</td>\n",
       "      <td>DLNIND7439062</td>\n",
       "      <td>774525728</td>\n",
       "      <td>Duman</td>\n",
       "      <td>Narayan</td>\n",
       "      <td>Neupane</td>\n",
       "      <td>+977-9875966202</td>\n",
       "      <td>duman298@gmail.com</td>\n",
       "      <td>M</td>\n",
       "      <td>duman298@gmail.com</td>\n",
       "      <td>Duman Narayan Neupane</td>\n",
       "      <td>Duman Narayan Neupane</td>\n",
       "    </tr>\n",
       "    <tr>\n",
       "      <th>1</th>\n",
       "      <td>R24249553</td>\n",
       "      <td>DLNLEG2131367</td>\n",
       "      <td>653435111</td>\n",
       "      <td>Prajina</td>\n",
       "      <td>Devi</td>\n",
       "      <td>Maharjan</td>\n",
       "      <td>+977-9852534864</td>\n",
       "      <td>prajina145@gmail.com</td>\n",
       "      <td>F</td>\n",
       "      <td>prajina145@gmail.com</td>\n",
       "      <td>Prajina Devi Maharjan</td>\n",
       "      <td>Prajina Devi Maharjan</td>\n",
       "    </tr>\n",
       "    <tr>\n",
       "      <th>2</th>\n",
       "      <td>R28893337</td>\n",
       "      <td>DLNIND9043300</td>\n",
       "      <td>171640280</td>\n",
       "      <td>Humacanta</td>\n",
       "      <td>Bipin</td>\n",
       "      <td>Thapa</td>\n",
       "      <td>+977-9867795072</td>\n",
       "      <td>humacanta304@gmail.com</td>\n",
       "      <td>M</td>\n",
       "      <td>humacanta304@gmail.com</td>\n",
       "      <td>Humacanta Bipin Thapa</td>\n",
       "      <td>Humacanta Bipin Thapa</td>\n",
       "    </tr>\n",
       "    <tr>\n",
       "      <th>3</th>\n",
       "      <td>R66368828</td>\n",
       "      <td>DLNIND9610835</td>\n",
       "      <td>153209321</td>\n",
       "      <td>KHOTANG FOODS PVT. LTD.</td>\n",
       "      <td>NaN</td>\n",
       "      <td>NaN</td>\n",
       "      <td>+977-9882862804</td>\n",
       "      <td>khotangfoods669@outlook.com</td>\n",
       "      <td>NaN</td>\n",
       "      <td>khotangfoods669@outlook.com</td>\n",
       "      <td>KHOTANG FOODS PVT. LTD.</td>\n",
       "      <td>KHOTANG FOODS PVT. LTD.</td>\n",
       "    </tr>\n",
       "    <tr>\n",
       "      <th>4</th>\n",
       "      <td>R02063811</td>\n",
       "      <td>DLNIND1810473</td>\n",
       "      <td>372830313</td>\n",
       "      <td>Adarsh</td>\n",
       "      <td>Bhakta</td>\n",
       "      <td>Lama</td>\n",
       "      <td>+977-9817546941</td>\n",
       "      <td>adarsh871@gmail.com</td>\n",
       "      <td>M</td>\n",
       "      <td>adarsh871@gmail.com</td>\n",
       "      <td>Adarsh Bhakta Lama</td>\n",
       "      <td>Adarsh Bhakta Lama</td>\n",
       "    </tr>\n",
       "  </tbody>\n",
       "</table>\n",
       "</div>"
      ],
      "text/plain": [
       "      orgkey         cif_id        pan          cust_first_name  \\\n",
       "0  319749297  DLNIND7439062  774525728                    Duman   \n",
       "1  R24249553  DLNLEG2131367  653435111                  Prajina   \n",
       "2  R28893337  DLNIND9043300  171640280                Humacanta   \n",
       "3  R66368828  DLNIND9610835  153209321  KHOTANG FOODS PVT. LTD.   \n",
       "4  R02063811  DLNIND1810473  372830313                   Adarsh   \n",
       "\n",
       "  cust_middle_name cust_last_name   preferredphone  \\\n",
       "0          Narayan        Neupane  +977-9875966202   \n",
       "1             Devi       Maharjan  +977-9852534864   \n",
       "2            Bipin          Thapa  +977-9867795072   \n",
       "3              NaN            NaN  +977-9882862804   \n",
       "4           Bhakta           Lama  +977-9817546941   \n",
       "\n",
       "                         email gender               preferredemail  \\\n",
       "0           duman298@gmail.com      M           duman298@gmail.com   \n",
       "1         prajina145@gmail.com      F         prajina145@gmail.com   \n",
       "2       humacanta304@gmail.com      M       humacanta304@gmail.com   \n",
       "3  khotangfoods669@outlook.com    NaN  khotangfoods669@outlook.com   \n",
       "4          adarsh871@gmail.com      M          adarsh871@gmail.com   \n",
       "\n",
       "                        name              preferredname  \n",
       "0      Duman Narayan Neupane      Duman Narayan Neupane  \n",
       "1      Prajina Devi Maharjan      Prajina Devi Maharjan  \n",
       "2      Humacanta Bipin Thapa      Humacanta Bipin Thapa  \n",
       "3  KHOTANG FOODS PVT. LTD.    KHOTANG FOODS PVT. LTD.    \n",
       "4         Adarsh Bhakta Lama         Adarsh Bhakta Lama  "
      ]
     },
     "execution_count": 3,
     "metadata": {},
     "output_type": "execute_result"
    }
   ],
   "source": [
    "df_acc = pd.read_csv(\"../../crmuser/account/cif_masked.csv\")\n",
    "df_acc.head()"
   ]
  },
  {
   "cell_type": "code",
   "execution_count": 11,
   "id": "5f9013d4",
   "metadata": {},
   "outputs": [
    {
     "data": {
      "text/plain": [
       "0     DLNLEG8709821\n",
       "1     DLNLEG3323761\n",
       "2     DLNLEG7386818\n",
       "3     DLNLEG4844349\n",
       "4     DLNLEG9720240\n",
       "5     DLNLEG1512911\n",
       "6     DLNLEG3463587\n",
       "7     DLNLEG8848242\n",
       "8     DLNLEG6473734\n",
       "9     DLNLEG1828972\n",
       "10    DLNIND2025964\n",
       "11    DLNIND1717162\n",
       "12    DLNLEG8178344\n",
       "13    DLNLEG5838743\n",
       "14    DLNLEG6581047\n",
       "15    DLNLEG8356168\n",
       "16    DLNLEG9819288\n",
       "17    DLNLEG2381473\n",
       "18    DLNLEG8087306\n",
       "19    DLNLEG6104322\n",
       "20    DLNLEG2828845\n",
       "21    DLNIND7859544\n",
       "22    DLNIND1810473\n",
       "23    DLNLEG8296813\n",
       "24    DLNLEG4636782\n",
       "25    DLNIND5967851\n",
       "26    DLNIND1748697\n",
       "27    DLNIND8663826\n",
       "28    DLNLEG3760857\n",
       "29    DLNLEG7411330\n",
       "30    DLNLEG3901144\n",
       "31    DLNLEG3183003\n",
       "32    DLNIND7031484\n",
       "33    DLNLEG8737967\n",
       "34    DLNIND4030689\n",
       "35    DLNIND6034151\n",
       "36    DLNIND9424302\n",
       "37    DLNIND9194854\n",
       "38    DLNLEG6170703\n",
       "39    DLNIND8270785\n",
       "40    DLNLEG7263621\n",
       "41    DLNLEG5835807\n",
       "42    DLNIND9610835\n",
       "43    DLNLEG8272817\n",
       "44    DLNLEG1118872\n",
       "45    DLNLEG3153310\n",
       "46    DLNIND7660792\n",
       "47    DLNIND9263164\n",
       "48    DLNLEG7515731\n",
       "49    DLNIND8191614\n",
       "50    DLNIND9073556\n",
       "51    DLNIND4088393\n",
       "Name: cif_id_a, dtype: object"
      ]
     },
     "execution_count": 11,
     "metadata": {},
     "output_type": "execute_result"
    }
   ],
   "source": [
    "df_result = pd.merge(left=df_lmis,right=df_acc, left_on='cif_id',right_on='orgkey',suffixes=('_p', '_a'))\n",
    "\n",
    "df_result['cif_id_a']"
   ]
  },
  {
   "cell_type": "code",
   "execution_count": 14,
   "id": "85d9faa1",
   "metadata": {},
   "outputs": [
    {
     "data": {
      "text/plain": [
       "0    DLNLEG8709821\n",
       "1    DLNLEG3323761\n",
       "2    DLNLEG7386818\n",
       "3    DLNLEG4844349\n",
       "4    DLNLEG9720240\n",
       "Name: cif_id, dtype: object"
      ]
     },
     "execution_count": 14,
     "metadata": {},
     "output_type": "execute_result"
    }
   ],
   "source": [
    "df_lmis['cif_id']=df_result['cif_id_a']\n",
    "df_lmis['cif_id'].head()"
   ]
  },
  {
   "cell_type": "code",
   "execution_count": 15,
   "id": "64113376",
   "metadata": {},
   "outputs": [],
   "source": [
    "df_lmis.to_csv(\"lmis_masked.csv\",index=False)"
   ]
  }
 ],
 "metadata": {
  "kernelspec": {
   "display_name": "Python 3 (ipykernel)",
   "language": "python",
   "name": "python3"
  },
  "language_info": {
   "codemirror_mode": {
    "name": "ipython",
    "version": 3
   },
   "file_extension": ".py",
   "mimetype": "text/x-python",
   "name": "python",
   "nbconvert_exporter": "python",
   "pygments_lexer": "ipython3",
   "version": "3.11.9"
  }
 },
 "nbformat": 4,
 "nbformat_minor": 5
}
