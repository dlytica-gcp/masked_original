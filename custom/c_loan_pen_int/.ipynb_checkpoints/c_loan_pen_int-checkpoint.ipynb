{
 "cells": [
  {
   "cell_type": "markdown",
   "id": "9924cfb6",
   "metadata": {},
   "source": [
    "# Notebook for c_loan_pen_int"
   ]
  }
 ],
 "metadata": {},
 "nbformat": 4,
 "nbformat_minor": 5
}
