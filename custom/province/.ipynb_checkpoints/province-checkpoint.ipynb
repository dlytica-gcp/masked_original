{
 "cells": [
  {
   "cell_type": "markdown",
   "id": "d26310c8",
   "metadata": {},
   "source": [
    "# Notebook for province"
   ]
  }
 ],
 "metadata": {},
 "nbformat": 4,
 "nbformat_minor": 5
}
