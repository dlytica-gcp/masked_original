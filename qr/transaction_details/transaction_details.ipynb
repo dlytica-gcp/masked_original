{
 "cells": [
  {
   "cell_type": "markdown",
   "id": "75b061da",
   "metadata": {},
   "source": [
    "# Notebook for transaction_details"
   ]
  }
 ],
 "metadata": {},
 "nbformat": 4,
 "nbformat_minor": 5
}
