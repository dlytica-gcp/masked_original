{
 "cells": [
  {
   "cell_type": "markdown",
   "id": "adc0fcf7",
   "metadata": {},
   "source": [
    "# Notebook for merchant_reallocation_details"
   ]
  }
 ],
 "metadata": {},
 "nbformat": 4,
 "nbformat_minor": 5
}
