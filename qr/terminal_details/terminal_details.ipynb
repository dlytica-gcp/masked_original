{
 "cells": [
  {
   "cell_type": "markdown",
   "id": "f57ea6a4",
   "metadata": {},
   "source": [
    "# Notebook for terminal_details"
   ]
  }
 ],
 "metadata": {},
 "nbformat": 4,
 "nbformat_minor": 5
}
